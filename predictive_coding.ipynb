{
 "cells": [
  {
   "cell_type": "code",
   "execution_count": 6,
   "id": "549ab69f",
   "metadata": {},
   "outputs": [
    {
     "name": "stdout",
     "output_type": "stream",
     "text": [
      "Using device: cpu\n"
     ]
    }
   ],
   "source": [
    "import torch\n",
    "import torch.nn as nn\n",
    "import torchvision\n",
    "import torchvision.transforms as transforms\n",
    "import numpy as np\n",
    "import matplotlib.pyplot as plt\n",
    "from tqdm import tqdm\n",
    "\n",
    "# Check if GPU is available\n",
    "device = torch.device('cuda' if torch.cuda.is_available() else 'cpu')\n",
    "print(f\"Using device: {device}\")\n",
    "\n",
    "# to display matplotlib plots inline (directly below the cell)\n",
    "%matplotlib inline"
   ]
  },
  {
   "cell_type": "code",
   "execution_count": 7,
   "id": "b0a9bccb",
   "metadata": {},
   "outputs": [
    {
     "name": "stdout",
     "output_type": "stream",
     "text": [
      "Training dataset size: 60000\n",
      "Validation dataset size: 5000\n",
      "Test dataset size: 5000\n",
      "Number of batches in training: 1875\n",
      "Number of batches in validation: 157\n",
      "Number of batches in testing: 157\n"
     ]
    }
   ],
   "source": [
    "transform = transforms.Compose([\n",
    "    transforms.ToTensor(),                   \n",
    "    transforms.Normalize((0.1307,), (0.3081,))  \n",
    "])\n",
    "\n",
    "# get the MNIST dataset for training\n",
    "train_dataset = torchvision.datasets.MNIST(\n",
    "    root='./data',\n",
    "    train=True,\n",
    "    transform=transform,\n",
    "    download=True\n",
    ")\n",
    "\n",
    "full_test_dataset = torchvision.datasets.MNIST(\n",
    "    root='./data',\n",
    "    train=False,\n",
    "    transform=transform,\n",
    "    download=True\n",
    ")\n",
    "\n",
    "val_size = 5000\n",
    "test_size = len(full_test_dataset) - val_size\n",
    "val_dataset, test_dataset = torch.utils.data.random_split(full_test_dataset, [val_size, test_size])\n",
    "\n",
    "\n",
    "# create data loaders\n",
    "batch_size = 32\n",
    "train_loader = torch.utils.data.DataLoader(\n",
    "    dataset=train_dataset,\n",
    "    batch_size=batch_size,\n",
    "    shuffle=True\n",
    ")\n",
    "\n",
    "validation_loader = torch.utils.data.DataLoader(\n",
    "    dataset=val_dataset,\n",
    "    batch_size=batch_size,\n",
    "    shuffle=False\n",
    ")\n",
    "\n",
    "test_loader = torch.utils.data.DataLoader(\n",
    "    dataset=test_dataset,\n",
    "    batch_size=batch_size,\n",
    "    shuffle=False\n",
    ")\n",
    "\n",
    "print(f\"Training dataset size: {len(train_dataset)}\")\n",
    "print(f\"Validation dataset size: {len(val_dataset)}\")\n",
    "print(f\"Test dataset size: {len(test_dataset)}\")\n",
    "print(f\"Number of batches in training: {len(train_loader)}\")\n",
    "print(f\"Number of batches in validation: {len(validation_loader)}\")\n",
    "print(f\"Number of batches in testing: {len(test_loader)}\")"
   ]
  },
  {
   "cell_type": "code",
   "execution_count": 8,
   "id": "2bff344a",
   "metadata": {},
   "outputs": [
    {
     "data": {
      "image/png": "[encoded data removed]",
      "text/plain": [
       "<Figure size 1200x400 with 12 Axes>"
      ]
     },
     "metadata": {},
     "output_type": "display_data"
    }
   ],
   "source": [
    "# get a batch of training data\n",
    "images, labels = next(iter(train_loader))\n",
    "\n",
    "fig = plt.figure(figsize=(12, 4))\n",
    "for i in range(12):\n",
    "    ax = fig.add_subplot(2, 6, i + 1)\n",
    "    # remove normalization\n",
    "    img = images[i].squeeze()\n",
    "    img = img * 0.3081 + 0.1307\n",
    "    ax.imshow(img, cmap='gray')\n",
    "    ax.set_title(f'Label: {labels[i].item()}')\n",
    "    ax.axis('off')\n",
    "plt.tight_layout()\n",
    "plt.show()"
   ]
  },
  {
   "cell_type": "code",
   "execution_count": 9,
   "id": "67d26b90",
   "metadata": {},
   "outputs": [
    {
     "name": "stdout",
     "output_type": "stream",
     "text": [
      "PCMNISTNet(\n",
      "  (W1): Linear(in_features=784, out_features=256, bias=True)\n",
      "  (W2): Linear(in_features=256, out_features=128, bias=True)\n",
      "  (W3): Linear(in_features=128, out_features=64, bias=True)\n",
      "  (W4): Linear(in_features=64, out_features=10, bias=True)\n",
      "  (L2): Linear(in_features=128, out_features=128, bias=True)\n",
      "  (L3): Linear(in_features=64, out_features=64, bias=True)\n",
      ")\n"
     ]
    }
   ],
   "source": [
    "class PCMNISTNet(nn.Module):\n",
    "    def __init__(self):\n",
    "        super(PCMNISTNet, self).__init__()\n",
    "        self.W1 = nn.Linear(28*28, 256, bias=True)\n",
    "        self.W2 = nn.Linear(256, 128, bias=True)\n",
    "        self.W3 = nn.Linear(128, 64, bias=True)\n",
    "        self.W4 = nn.Linear(64, 10, bias=True)\n",
    "        # lateral connections for hidden layers 2 and 3\n",
    "        self.L2 = nn.Linear(128, 128, bias=True)\n",
    "        self.L3 = nn.Linear(64, 64, bias=True)\n",
    "        \n",
    "        for layer in [self.L2, self.L3]:\n",
    "            nn.init.normal_(layer.weight, mean=0.0, std=0.01)\n",
    "            mask = ~torch.eye(layer.weight.shape[0], dtype=torch.bool)\n",
    "            layer.weight.data *= mask # to avoid self connection\n",
    "            if layer.bias is not None:\n",
    "                nn.init.zeros_(layer.bias)\n",
    "                \n",
    "        self.act = torch.relu\n",
    "\n",
    "    def predict(self, x, lateral_strength=0.1):\n",
    "        # forward pass to initialize latent states\n",
    "        z0 = x.view(x.size(0), -1)\n",
    "        z1 = self.act(self.W1(z0))\n",
    "        z2_ff = self.act(self.W2(z1))\n",
    "        lat2 = self.act(self.L2(z2_ff))\n",
    "        z2 = z2_ff + lateral_strength * lat2\n",
    "        z3_ff = self.act(self.W3(z2))\n",
    "        lat3 = self.act(self.L3(z3_ff))\n",
    "        z3 = z3_ff + lateral_strength * lat3\n",
    "        z4 = self.W4(z3) # we want raw outputs here so no activation\n",
    "        return [z0, z1, z2, z3, z4]\n",
    "\n",
    "# Instantiate model\n",
    "model = PCMNISTNet().to(device)\n",
    "print(model)"
   ]
  },
  {
   "cell_type": "code",
   "execution_count": 10,
   "id": "09ed00e9",
   "metadata": {},
   "outputs": [],
   "source": [
    "inference_steps = 10\n",
    "alpha = 0.05 # latent state learning rate\n",
    "eta = 0.01 # weight learning rate\n",
    "lateral_strength = 0.1\n",
    "\n",
    "@torch.no_grad()\n",
    "def pc_train_batch(model, x, y_onehot):\n",
    "    zs = model.predict(x, lateral_strength=lateral_strength)\n",
    "    Ws = [model.W1, model.W2, model.W3, model.W4]\n",
    "    Ls = [model.L2, model.L3]\n",
    "    L = len(Ws)\n",
    "    batch_size = x.size(0)\n",
    "    zs[L] = y_onehot # clamps z4 with the true labels\n",
    "    for _ in range(inference_steps):\n",
    "        errors = [None]*(L+1)\n",
    "        for l in range(1, L+1):\n",
    "            if l < L:\n",
    "                ff_pred = model.act(Ws[l-1](zs[l-1]))\n",
    "                if l == 2:\n",
    "                    lat_pred = model.act(Ls[0](zs[l]))\n",
    "                    pred = ff_pred + lateral_strength * lat_pred\n",
    "                elif l == 3:\n",
    "                    lat_pred = model.act(Ls[1](zs[l]))\n",
    "                    pred = ff_pred + lateral_strength * lat_pred\n",
    "                else:\n",
    "                    pred = ff_pred\n",
    "            else:\n",
    "                pred = Ws[l-1](zs[l-1])\n",
    "            errors[l] = zs[l] - pred\n",
    "\n",
    "        # updating the activation states of the hidden layers\n",
    "        for l in range(1, L):\n",
    "            # the layer aligning itself with what the layer below says it should be\n",
    "            td = -errors[l] \n",
    "            # push zl in the direction that would reduce the error one layer up\n",
    "            bu = errors[l+1] @ Ws[l].weight \n",
    "            \n",
    "            update = td + bu\n",
    "            if l == 2:\n",
    "                lat = lateral_strength * (errors[l] @ Ls[0].weight)\n",
    "                update += lat\n",
    "            elif l == 3:\n",
    "                lat = lateral_strength * (errors[l] @ Ls[1].weight)\n",
    "                update += lat\n",
    "            \n",
    "            zs[l] = model.act(zs[l] + alpha * update)\n",
    "\n",
    "    # Final error calculation \n",
    "    final_errors = []\n",
    "    for l in range(1, L+1):\n",
    "        if l < L:\n",
    "            ff_pred = model.act(Ws[l-1](zs[l-1]))\n",
    "            if l == 2:\n",
    "                lat_pred = model.act(Ls[0](zs[l]))\n",
    "                pred = ff_pred + lateral_strength * lat_pred\n",
    "            elif l == 3:\n",
    "                lat_pred = model.act(Ls[1](zs[l]))\n",
    "                pred = ff_pred + lateral_strength * lat_pred\n",
    "            else:\n",
    "                pred = ff_pred\n",
    "        else:\n",
    "            pred = Ws[l-1](zs[l-1])\n",
    "        final_errors.append(zs[l] - pred)\n",
    "        \n",
    "    # Weight and bias updates \n",
    "    for i, W in enumerate(Ws):\n",
    "        grad_w = final_errors[i].t() @ zs[i]\n",
    "        W.weight.data += eta * (grad_w / batch_size) # we divide by the batch size to normalize the average gradient\n",
    "        if W.bias is not None:\n",
    "            grad_b = final_errors[i].sum(dim=0)\n",
    "            W.bias.data += eta * (grad_b / batch_size)\n",
    "            \n",
    "    # Update lateral weights for layers 2 and 3\n",
    "    for i, L_layer in enumerate(Ls):\n",
    "        l = i + 2\n",
    "        grad_w = final_errors[l-1].t() @ zs[l]\n",
    "        mask = ~torch.eye(L_layer.weight.shape[0], dtype=torch.bool, device=grad_w.device)\n",
    "        grad_w = grad_w * mask # to avoid self connection\n",
    "        L_layer.weight.data += eta * lateral_strength * (grad_w / batch_size) \n",
    "        if L_layer.bias is not None:\n",
    "            grad_b = final_errors[l-1].sum(dim=0)\n",
    "            L_layer.bias.data += eta * lateral_strength * (grad_b / batch_size)  # we divide by the batch size to normalize the average gradient\n",
    "            \n",
    "# Evaluation function to calculate loss and accuracy\n",
    "@torch.no_grad()\n",
    "def evaluate_model(model, data_loader):\n",
    "    model.eval()\n",
    "    total_loss = 0.0\n",
    "    correct = 0\n",
    "    total = 0\n",
    "    \n",
    "    for images, labels in data_loader:\n",
    "        images, labels = images.to(device), labels.to(device)\n",
    "        \n",
    "        zs = model.predict(images)\n",
    "        preds = zs[-1].argmax(dim=1)\n",
    "        \n",
    "        correct += (preds == labels).sum().item()\n",
    "        total += labels.size(0)\n",
    "        \n",
    "        y_onehot = torch.zeros(images.size(0), 10, device=device)\n",
    "        y_onehot.scatter_(1, labels.view(-1,1), 1.0)\n",
    "        \n",
    "        batch_loss = (zs[-1] - y_onehot).pow(2).mean().item()\n",
    "        total_loss += batch_loss\n",
    "\n",
    "    avg_loss = total_loss / len(data_loader)\n",
    "    accuracy = correct / total\n",
    "    return avg_loss, accuracy"
   ]
  },
  {
   "cell_type": "code",
   "execution_count": 11,
   "id": "c0f0034e",
   "metadata": {},
   "outputs": [
    {
     "name": "stderr",
     "output_type": "stream",
     "text": [
      "Epoch 1: 100%|██████████| 1875/1875 [00:41<00:00, 45.08it/s]\n"
     ]
    },
    {
     "name": "stdout",
     "output_type": "stream",
     "text": [
      "Epoch 1:\n",
      "  Train Loss: 0.0612 | Train Acc: 0.6794\n",
      "  Valid Loss: 0.0606 | Valid Acc: 0.6904\n"
     ]
    },
    {
     "name": "stderr",
     "output_type": "stream",
     "text": [
      "Epoch 2: 100%|██████████| 1875/1875 [00:35<00:00, 52.58it/s]\n"
     ]
    },
    {
     "name": "stdout",
     "output_type": "stream",
     "text": [
      "Epoch 2:\n",
      "  Train Loss: 0.0501 | Train Acc: 0.7859\n",
      "  Valid Loss: 0.0493 | Valid Acc: 0.8018\n"
     ]
    },
    {
     "name": "stderr",
     "output_type": "stream",
     "text": [
      "Epoch 3: 100%|██████████| 1875/1875 [00:39<00:00, 46.91it/s]\n"
     ]
    },
    {
     "name": "stdout",
     "output_type": "stream",
     "text": [
      "Epoch 3:\n",
      "  Train Loss: 0.0463 | Train Acc: 0.8214\n",
      "  Valid Loss: 0.0453 | Valid Acc: 0.8348\n"
     ]
    },
    {
     "name": "stderr",
     "output_type": "stream",
     "text": [
      "Epoch 4: 100%|██████████| 1875/1875 [00:38<00:00, 48.65it/s]\n"
     ]
    },
    {
     "name": "stdout",
     "output_type": "stream",
     "text": [
      "Epoch 4:\n",
      "  Train Loss: 0.0445 | Train Acc: 0.8341\n",
      "  Valid Loss: 0.0434 | Valid Acc: 0.8420\n"
     ]
    },
    {
     "name": "stderr",
     "output_type": "stream",
     "text": [
      "Epoch 5: 100%|██████████| 1875/1875 [00:35<00:00, 52.58it/s]\n"
     ]
    },
    {
     "name": "stdout",
     "output_type": "stream",
     "text": [
      "Epoch 5:\n",
      "  Train Loss: 0.0436 | Train Acc: 0.8439\n",
      "  Valid Loss: 0.0425 | Valid Acc: 0.8508\n"
     ]
    }
   ],
   "source": [
    "num_epochs = 5 \n",
    "\n",
    "train_losses = []\n",
    "train_accuracies = []\n",
    "val_losses = []\n",
    "val_accuracies = []\n",
    "\n",
    "for epoch in range(1, num_epochs+1):\n",
    "    model.train()\n",
    "    for images, labels in tqdm(train_loader, desc=f\"Epoch {epoch}\", leave=True):\n",
    "        images, labels = images.to(device), labels.to(device)\n",
    "        y_onehot = torch.zeros(images.size(0), 10, device=device)\n",
    "        y_onehot.scatter_(1, labels.view(-1,1), 1.0)\n",
    "        pc_train_batch(model, images, y_onehot)\n",
    "\n",
    "    train_loss, train_acc = evaluate_model(model, train_loader)\n",
    "    val_loss, val_acc = evaluate_model(model, validation_loader)\n",
    "\n",
    "    train_losses.append(train_loss)\n",
    "    train_accuracies.append(train_acc)\n",
    "    val_losses.append(val_loss)\n",
    "    val_accuracies.append(val_acc)\n",
    "\n",
    "    print(f\"Epoch {epoch}:\")\n",
    "    print(f\"  Train Loss: {train_loss:.4f} | Train Acc: {train_acc:.4f}\")\n",
    "    print(f\"  Valid Loss: {val_loss:.4f} | Valid Acc: {val_acc:.4f}\")"
   ]
  },
  {
   "cell_type": "code",
   "execution_count": 12,
   "id": "5c0e65c7",
   "metadata": {},
   "outputs": [
    {
     "name": "stdout",
     "output_type": "stream",
     "text": [
      "Final Test accuracy on unseen data: 0.8536\n"
     ]
    }
   ],
   "source": [
    "model.eval()\n",
    "correct = 0\n",
    "total = 0\n",
    "with torch.no_grad():\n",
    "    for images, labels in test_loader:\n",
    "        images, labels = images.to(device), labels.to(device)\n",
    "        zs = model.predict(images)\n",
    "        preds = zs[-1].argmax(dim=1)\n",
    "        correct += (preds == labels).sum().item()\n",
    "        total += labels.size(0)\n",
    "\n",
    "print(f\"Final Test accuracy on unseen data: {correct/total:.4f}\")"
   ]
  },
  {
   "cell_type": "code",
   "execution_count": 23,
   "id": "845979ff",
   "metadata": {},
   "outputs": [
    {
     "data": {
      "image/png": "[encoded data removed]",
      "text/plain": [
       "<Figure size 1000x300 with 12 Axes>"
      ]
     },
     "metadata": {},
     "output_type": "display_data"
    }
   ],
   "source": [
    "import random\n",
    "\n",
    "test_batches = list(test_loader)\n",
    "test_images, test_labels = random.choice(test_batches)\n",
    "test_images = test_images.to(device)\n",
    "zs = model.predict(test_images)\n",
    "preds = zs[-1].argmax(dim=1)\n",
    "\n",
    "fig = plt.figure(figsize=(10, 3))\n",
    "for i in range(12):\n",
    "    ax = fig.add_subplot(2, 6, i + 1)\n",
    "    img = test_images[i].cpu().squeeze() * 0.3081 + 0.1307\n",
    "    ax.imshow(img, cmap='gray')\n",
    "    color = 'green' if preds[i]==test_labels[i] else 'red'\n",
    "    ax.set_title(f\"P:{preds[i].item()} T:{test_labels[i].item()}\", color=color)\n",
    "    ax.axis('off')\n",
    "plt.show()"
   ]
  },
  {
   "cell_type": "code",
   "execution_count": null,
   "id": "4ef62f5d",
   "metadata": {},
   "outputs": [],
   "source": []
  }
 ],
 "metadata": {
  "kernelspec": {
   "display_name": "venv",
   "language": "python",
   "name": "python3"
  },
  "language_info": {
   "codemirror_mode": {
    "name": "ipython",
    "version": 3
   },
   "file_extension": ".py",
   "mimetype": "text/x-python",
   "name": "python",
   "nbconvert_exporter": "python",
   "pygments_lexer": "ipython3",
   "version": "3.12.1"
  }
 },
 "nbformat": 4,
 "nbformat_minor": 5
}
