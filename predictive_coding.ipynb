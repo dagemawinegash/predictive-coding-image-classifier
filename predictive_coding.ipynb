{
 "cells": [
  {
   "cell_type": "code",
   "execution_count": 1,
   "id": "549ab69f",
   "metadata": {},
   "outputs": [
    {
     "name": "stdout",
     "output_type": "stream",
     "text": [
      "Using device: cpu\n"
     ]
    }
   ],
   "source": [
    "import torch\n",
    "import torch.nn as nn\n",
    "import torchvision\n",
    "import torchvision.transforms as transforms\n",
    "import numpy as np\n",
    "import matplotlib.pyplot as plt\n",
    "from tqdm import tqdm\n",
    "\n",
    "# Check if GPU is available\n",
    "device = torch.device('cuda' if torch.cuda.is_available() else 'cpu')\n",
    "print(f\"Using device: {device}\")\n",
    "\n",
    "# to display matplotlib plots inline (directly below the cell)\n",
    "%matplotlib inline"
   ]
  },
  {
   "cell_type": "code",
   "execution_count": 2,
   "id": "b0a9bccb",
   "metadata": {},
   "outputs": [
    {
     "name": "stdout",
     "output_type": "stream",
     "text": [
      "Training dataset size: 60000\n",
      "Validation dataset size: 5000\n",
      "Test dataset size: 5000\n",
      "Number of batches in training: 1875\n",
      "Number of batches in validation: 157\n",
      "Number of batches in testing: 157\n"
     ]
    }
   ],
   "source": [
    "transform = transforms.Compose([\n",
    "    transforms.ToTensor(),                   \n",
    "    transforms.Normalize((0.1307,), (0.3081,))  \n",
    "])\n",
    "\n",
    "# get the MNIST dataset for training\n",
    "train_dataset = torchvision.datasets.MNIST(\n",
    "    root='./data',\n",
    "    train=True,\n",
    "    transform=transform,\n",
    "    download=True\n",
    ")\n",
    "\n",
    "full_test_dataset = torchvision.datasets.MNIST(\n",
    "    root='./data',\n",
    "    train=False,\n",
    "    transform=transform,\n",
    "    download=True\n",
    ")\n",
    "\n",
    "val_size = 5000\n",
    "test_size = len(full_test_dataset) - val_size\n",
    "val_dataset, test_dataset = torch.utils.data.random_split(full_test_dataset, [val_size, test_size])\n",
    "\n",
    "\n",
    "# create data loaders\n",
    "batch_size = 32\n",
    "train_loader = torch.utils.data.DataLoader(\n",
    "    dataset=train_dataset,\n",
    "    batch_size=batch_size,\n",
    "    shuffle=True\n",
    ")\n",
    "\n",
    "validation_loader = torch.utils.data.DataLoader(\n",
    "    dataset=val_dataset,\n",
    "    batch_size=batch_size,\n",
    "    shuffle=False\n",
    ")\n",
    "\n",
    "test_loader = torch.utils.data.DataLoader(\n",
    "    dataset=test_dataset,\n",
    "    batch_size=batch_size,\n",
    "    shuffle=False\n",
    ")\n",
    "\n",
    "print(f\"Training dataset size: {len(train_dataset)}\")\n",
    "print(f\"Validation dataset size: {len(val_dataset)}\")\n",
    "print(f\"Test dataset size: {len(test_dataset)}\")\n",
    "print(f\"Number of batches in training: {len(train_loader)}\")\n",
    "print(f\"Number of batches in validation: {len(validation_loader)}\")\n",
    "print(f\"Number of batches in testing: {len(test_loader)}\")"
   ]
  },
  {
   "cell_type": "code",
   "execution_count": 3,
   "id": "2bff344a",
   "metadata": {},
   "outputs": [
    {
     "data": {
      "image/png": "[encoded data removed]",
      "text/plain": [
       "<Figure size 1200x400 with 12 Axes>"
      ]
     },
     "metadata": {},
     "output_type": "display_data"
    }
   ],
   "source": [
    "# get a batch of training data\n",
    "images, labels = next(iter(train_loader))\n",
    "\n",
    "fig = plt.figure(figsize=(12, 4))\n",
    "for i in range(12):\n",
    "    ax = fig.add_subplot(2, 6, i + 1)\n",
    "    # remove normalization\n",
    "    img = images[i].squeeze()\n",
    "    img = img * 0.3081 + 0.1307\n",
    "    ax.imshow(img, cmap='gray')\n",
    "    ax.set_title(f'Label: {labels[i].item()}')\n",
    "    ax.axis('off')\n",
    "plt.tight_layout()\n",
    "plt.show()"
   ]
  },
  {
   "cell_type": "code",
   "execution_count": 4,
   "id": "67d26b90",
   "metadata": {},
   "outputs": [
    {
     "name": "stdout",
     "output_type": "stream",
     "text": [
      "PCMNISTNet(\n",
      "  (W1): Linear(in_features=784, out_features=256, bias=True)\n",
      "  (W2): Linear(in_features=256, out_features=128, bias=True)\n",
      "  (W3): Linear(in_features=128, out_features=64, bias=True)\n",
      "  (W4): Linear(in_features=64, out_features=10, bias=True)\n",
      "  (L2): Linear(in_features=128, out_features=128, bias=True)\n",
      "  (L3): Linear(in_features=64, out_features=64, bias=True)\n",
      ")\n"
     ]
    }
   ],
   "source": [
    "class PCMNISTNet(nn.Module):\n",
    "    def __init__(self):\n",
    "        super(PCMNISTNet, self).__init__()\n",
    "        self.W1 = nn.Linear(28*28, 256, bias=True)\n",
    "        self.W2 = nn.Linear(256, 128, bias=True)\n",
    "        self.W3 = nn.Linear(128, 64, bias=True)\n",
    "        self.W4 = nn.Linear(64, 10, bias=True)\n",
    "        # lateral connections for hidden layers 2 and 3\n",
    "        self.L2 = nn.Linear(128, 128, bias=True)\n",
    "        self.L3 = nn.Linear(64, 64, bias=True)\n",
    "        \n",
    "        for layer in [self.L2, self.L3]:\n",
    "            nn.init.normal_(layer.weight, mean=0.0, std=0.01)\n",
    "            mask = ~torch.eye(layer.weight.shape[0], dtype=torch.bool)\n",
    "            layer.weight.data *= mask # to avoid self connection\n",
    "            if layer.bias is not None:\n",
    "                nn.init.zeros_(layer.bias)\n",
    "                \n",
    "        self.act = torch.relu\n",
    "\n",
    "    def predict(self, x, lateral_strength=0.1):\n",
    "        # forward pass to initialize latent states\n",
    "        z0 = x.view(x.size(0), -1)\n",
    "        z1 = self.act(self.W1(z0))\n",
    "        z2_ff = self.act(self.W2(z1))\n",
    "        lat2 = self.act(self.L2(z2_ff))\n",
    "        z2 = z2_ff + lateral_strength * lat2\n",
    "        z3_ff = self.act(self.W3(z2))\n",
    "        lat3 = self.act(self.L3(z3_ff))\n",
    "        z3 = z3_ff + lateral_strength * lat3\n",
    "        z4 = self.W4(z3) # we want raw outputs here so no activation\n",
    "        return [z0, z1, z2, z3, z4]\n",
    "\n",
    "# Instantiate model\n",
    "model = PCMNISTNet().to(device)\n",
    "print(model)"
   ]
  },
  {
   "cell_type": "code",
   "execution_count": null,
   "id": "09ed00e9",
   "metadata": {},
   "outputs": [],
   "source": []
  }
 ],
 "metadata": {
  "kernelspec": {
   "display_name": "venv",
   "language": "python",
   "name": "python3"
  },
  "language_info": {
   "codemirror_mode": {
    "name": "ipython",
    "version": 3
   },
   "file_extension": ".py",
   "mimetype": "text/x-python",
   "name": "python",
   "nbconvert_exporter": "python",
   "pygments_lexer": "ipython3",
   "version": "3.12.1"
  }
 },
 "nbformat": 4,
 "nbformat_minor": 5
}
